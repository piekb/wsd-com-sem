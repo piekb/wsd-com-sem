{
 "cells": [
  {
   "cell_type": "markdown",
   "metadata": {},
   "source": [
    "# Data exploration"
   ]
  },
  {
   "cell_type": "code",
   "execution_count": 2,
   "metadata": {},
   "outputs": [
    {
     "data": {
      "text/html": [
       "<style>\n",
       ".output {\n",
       "    flex-direction: row;\n",
       "}\n",
       "</style>"
      ],
      "text/plain": [
       "<IPython.core.display.HTML object>"
      ]
     },
     "execution_count": 2,
     "metadata": {},
     "output_type": "execute_result"
    }
   ],
   "source": [
    "# This is just a visual thing, I don't like how Jupyter usually displays things\n",
    "from IPython.display import display, HTML\n",
    "\n",
    "CSS = \"\"\"\n",
    ".output {\n",
    "    flex-direction: row;\n",
    "}\n",
    "\"\"\"\n",
    "\n",
    "HTML('<style>{}</style>'.format(CSS))"
   ]
  },
  {
   "cell_type": "code",
   "execution_count": 5,
   "metadata": {},
   "outputs": [],
   "source": [
    "import pandas as pd"
   ]
  },
  {
   "cell_type": "code",
   "execution_count": 124,
   "metadata": {},
   "outputs": [],
   "source": [
    "# Sentences that don't end with punctuation.\n",
    "# In general we don't need to worry about this, since as long as the slider fits, it properly reads the last word. \n",
    "def punctuation(df):\n",
    "    cnt = 0\n",
    "    for sent_id in df['sentence'].unique():\n",
    "        sentence = df[df['sentence'] == sent_id]\n",
    "        types = list(sentence['sem'].values)\n",
    "        if types[-1] != 'NIL' and types[-1] != 'QUE' and types[-1] != 'EMP':\n",
    "#             print(sent_id, sentence.index[-1], sentence['word'].values[-1], types[-1], sentence['sns'].values[-1])\n",
    "#             print(sentence['word'].values)\n",
    "            cnt += 1\n",
    "    return cnt"
   ]
  },
  {
   "cell_type": "code",
   "execution_count": 125,
   "metadata": {},
   "outputs": [],
   "source": [
    "def describe_data(df):\n",
    "    display(df.describe())\n",
    "    print(len(df[df['sns'] != 'O']), \"words that have a meaningful sense\\n\", \n",
    "          len(df['sns'].unique()), \"unique senses\\n\", \n",
    "          len(df['sem'].unique()), \"unique roles\\n\",\n",
    "          punctuation(df), \"sentences without punctuation at the end\")"
   ]
  },
  {
   "cell_type": "code",
   "execution_count": 126,
   "metadata": {},
   "outputs": [
    {
     "data": {
      "text/html": [
       "<div>\n",
       "<style scoped>\n",
       "    .dataframe tbody tr th:only-of-type {\n",
       "        vertical-align: middle;\n",
       "    }\n",
       "\n",
       "    .dataframe tbody tr th {\n",
       "        vertical-align: top;\n",
       "    }\n",
       "\n",
       "    .dataframe thead th {\n",
       "        text-align: right;\n",
       "    }\n",
       "</style>\n",
       "<table border=\"1\" class=\"dataframe\">\n",
       "  <thead>\n",
       "    <tr style=\"text-align: right;\">\n",
       "      <th></th>\n",
       "      <th>sentence</th>\n",
       "      <th>word</th>\n",
       "      <th>sym</th>\n",
       "      <th>sem</th>\n",
       "      <th>sns</th>\n",
       "    </tr>\n",
       "  </thead>\n",
       "  <tbody>\n",
       "    <tr>\n",
       "      <th>count</th>\n",
       "      <td>5423</td>\n",
       "      <td>5423</td>\n",
       "      <td>5423</td>\n",
       "      <td>5423</td>\n",
       "      <td>5423</td>\n",
       "    </tr>\n",
       "    <tr>\n",
       "      <th>unique</th>\n",
       "      <td>885</td>\n",
       "      <td>1562</td>\n",
       "      <td>1309</td>\n",
       "      <td>61</td>\n",
       "      <td>1207</td>\n",
       "    </tr>\n",
       "    <tr>\n",
       "      <th>top</th>\n",
       "      <td>p30/d0706</td>\n",
       "      <td>.</td>\n",
       "      <td>.</td>\n",
       "      <td>NIL</td>\n",
       "      <td>O</td>\n",
       "    </tr>\n",
       "    <tr>\n",
       "      <th>freq</th>\n",
       "      <td>32</td>\n",
       "      <td>776</td>\n",
       "      <td>776</td>\n",
       "      <td>861</td>\n",
       "      <td>2898</td>\n",
       "    </tr>\n",
       "  </tbody>\n",
       "</table>\n",
       "</div>"
      ],
      "text/plain": [
       "          sentence  word   sym   sem   sns\n",
       "count         5423  5423  5423  5423  5423\n",
       "unique         885  1562  1309    61  1207\n",
       "top      p30/d0706     .     .   NIL     O\n",
       "freq            32   776   776   861  2898"
      ]
     },
     "metadata": {},
     "output_type": "display_data"
    },
    {
     "name": "stdout",
     "output_type": "stream",
     "text": [
      "2525 words that have a meaningful sense\n",
      " 1207 unique senses\n",
      " 61 unique roles\n",
      " 16 sentences without punctuation at the end\n"
     ]
    }
   ],
   "source": [
    "dat = pd.read_csv(\"data/csv/dev.csv\", index_col=0)\n",
    "describe_data(dat)"
   ]
  },
  {
   "cell_type": "code",
   "execution_count": 127,
   "metadata": {},
   "outputs": [
    {
     "data": {
      "text/html": [
       "<div>\n",
       "<style scoped>\n",
       "    .dataframe tbody tr th:only-of-type {\n",
       "        vertical-align: middle;\n",
       "    }\n",
       "\n",
       "    .dataframe tbody tr th {\n",
       "        vertical-align: top;\n",
       "    }\n",
       "\n",
       "    .dataframe thead th {\n",
       "        text-align: right;\n",
       "    }\n",
       "</style>\n",
       "<table border=\"1\" class=\"dataframe\">\n",
       "  <thead>\n",
       "    <tr style=\"text-align: right;\">\n",
       "      <th></th>\n",
       "      <th>sentence</th>\n",
       "      <th>word</th>\n",
       "      <th>sym</th>\n",
       "      <th>sem</th>\n",
       "      <th>sns</th>\n",
       "    </tr>\n",
       "  </thead>\n",
       "  <tbody>\n",
       "    <tr>\n",
       "      <th>count</th>\n",
       "      <td>43024</td>\n",
       "      <td>43024</td>\n",
       "      <td>43024</td>\n",
       "      <td>43024</td>\n",
       "      <td>43024</td>\n",
       "    </tr>\n",
       "    <tr>\n",
       "      <th>unique</th>\n",
       "      <td>6620</td>\n",
       "      <td>6083</td>\n",
       "      <td>4859</td>\n",
       "      <td>68</td>\n",
       "      <td>4443</td>\n",
       "    </tr>\n",
       "    <tr>\n",
       "      <th>top</th>\n",
       "      <td>p23/d0064</td>\n",
       "      <td>.</td>\n",
       "      <td>.</td>\n",
       "      <td>NIL</td>\n",
       "      <td>O</td>\n",
       "    </tr>\n",
       "    <tr>\n",
       "      <th>freq</th>\n",
       "      <td>36</td>\n",
       "      <td>5997</td>\n",
       "      <td>5997</td>\n",
       "      <td>6735</td>\n",
       "      <td>22578</td>\n",
       "    </tr>\n",
       "  </tbody>\n",
       "</table>\n",
       "</div>"
      ],
      "text/plain": [
       "          sentence   word    sym    sem    sns\n",
       "count        43024  43024  43024  43024  43024\n",
       "unique        6620   6083   4859     68   4443\n",
       "top      p23/d0064      .      .    NIL      O\n",
       "freq            36   5997   5997   6735  22578"
      ]
     },
     "metadata": {},
     "output_type": "display_data"
    },
    {
     "name": "stdout",
     "output_type": "stream",
     "text": [
      "20446 words that have a meaningful sense\n",
      " 4443 unique senses\n",
      " 68 unique roles\n",
      " 82 sentences without punctuation at the end\n"
     ]
    }
   ],
   "source": [
    "train = pd.read_csv(\"data/csv/train.csv\", index_col=0)\n",
    "describe_data(train)"
   ]
  },
  {
   "cell_type": "code",
   "execution_count": 128,
   "metadata": {},
   "outputs": [
    {
     "data": {
      "text/html": [
       "<div>\n",
       "<style scoped>\n",
       "    .dataframe tbody tr th:only-of-type {\n",
       "        vertical-align: middle;\n",
       "    }\n",
       "\n",
       "    .dataframe tbody tr th {\n",
       "        vertical-align: top;\n",
       "    }\n",
       "\n",
       "    .dataframe thead th {\n",
       "        text-align: right;\n",
       "    }\n",
       "</style>\n",
       "<table border=\"1\" class=\"dataframe\">\n",
       "  <thead>\n",
       "    <tr style=\"text-align: right;\">\n",
       "      <th></th>\n",
       "      <th>sentence</th>\n",
       "      <th>word</th>\n",
       "      <th>sym</th>\n",
       "      <th>sem</th>\n",
       "      <th>sns</th>\n",
       "    </tr>\n",
       "  </thead>\n",
       "  <tbody>\n",
       "    <tr>\n",
       "      <th>count</th>\n",
       "      <td>5776</td>\n",
       "      <td>5776</td>\n",
       "      <td>5776</td>\n",
       "      <td>5776</td>\n",
       "      <td>5776</td>\n",
       "    </tr>\n",
       "    <tr>\n",
       "      <th>unique</th>\n",
       "      <td>898</td>\n",
       "      <td>1670</td>\n",
       "      <td>1425</td>\n",
       "      <td>62</td>\n",
       "      <td>1228</td>\n",
       "    </tr>\n",
       "    <tr>\n",
       "      <th>top</th>\n",
       "      <td>p61/d3477</td>\n",
       "      <td>.</td>\n",
       "      <td>.</td>\n",
       "      <td>NIL</td>\n",
       "      <td>O</td>\n",
       "    </tr>\n",
       "    <tr>\n",
       "      <th>freq</th>\n",
       "      <td>15</td>\n",
       "      <td>800</td>\n",
       "      <td>800</td>\n",
       "      <td>887</td>\n",
       "      <td>3031</td>\n",
       "    </tr>\n",
       "  </tbody>\n",
       "</table>\n",
       "</div>"
      ],
      "text/plain": [
       "          sentence  word   sym   sem   sns\n",
       "count         5776  5776  5776  5776  5776\n",
       "unique         898  1670  1425    62  1228\n",
       "top      p61/d3477     .     .   NIL     O\n",
       "freq            15   800   800   887  3031"
      ]
     },
     "metadata": {},
     "output_type": "display_data"
    },
    {
     "name": "stdout",
     "output_type": "stream",
     "text": [
      "2745 words that have a meaningful sense\n",
      " 1228 unique senses\n",
      " 62 unique roles\n",
      " 19 sentences without punctuation at the end\n"
     ]
    }
   ],
   "source": [
    "test = pd.read_csv(\"data/csv/test.csv\", index_col=0)\n",
    "describe_data(test)"
   ]
  },
  {
   "cell_type": "code",
   "execution_count": 129,
   "metadata": {},
   "outputs": [
    {
     "data": {
      "text/plain": [
       "count    885.000000\n",
       "mean       6.127684\n",
       "std        2.191244\n",
       "min        2.000000\n",
       "25%        5.000000\n",
       "50%        6.000000\n",
       "75%        7.000000\n",
       "max       32.000000\n",
       "Name: length, dtype: float64"
      ]
     },
     "metadata": {},
     "output_type": "display_data"
    },
    {
     "data": {
      "text/plain": [
       "count    6620.000000\n",
       "mean        6.499094\n",
       "std         2.103781\n",
       "min         1.000000\n",
       "25%         5.000000\n",
       "50%         6.000000\n",
       "75%         7.000000\n",
       "max        36.000000\n",
       "Name: length, dtype: float64"
      ]
     },
     "metadata": {},
     "output_type": "display_data"
    },
    {
     "data": {
      "text/plain": [
       "count    898.000000\n",
       "mean       6.432071\n",
       "std        1.933209\n",
       "min        1.000000\n",
       "25%        5.000000\n",
       "50%        6.000000\n",
       "75%        7.000000\n",
       "max       15.000000\n",
       "Name: length, dtype: float64"
      ]
     },
     "metadata": {},
     "output_type": "display_data"
    }
   ],
   "source": [
    "# Plot sentence lengths. Used to decide valid context window sizes\n",
    "def sen_len(df, colour, plot):\n",
    "    lengths = df['sentence'].value_counts().rename_axis('sentence').reset_index(name='length')\n",
    "    if plot:\n",
    "        h = lengths['length'].plot.density(xlim=[0,36], color=colour)\n",
    "        h.set_xlabel('Sentence length')\n",
    "        h.legend([\"dev\", 'train', 'test'])\n",
    "    else:\n",
    "        display(lengths['length'].describe())\n",
    "sen_len(dat, \"red\", False)\n",
    "sen_len(train, \"green\", False)\n",
    "sen_len(test, \"blue\", False)"
   ]
  },
  {
   "cell_type": "code",
   "execution_count": 130,
   "metadata": {},
   "outputs": [
    {
     "data": {
      "image/png": "[encoded data removed]",
      "text/plain": [
       "<Figure size 432x288 with 1 Axes>"
      ]
     },
     "metadata": {
      "needs_background": "light"
     },
     "output_type": "display_data"
    }
   ],
   "source": [
    "sen_len(dat, \"red\", True)\n",
    "sen_len(train, \"green\", True)\n",
    "sen_len(test, \"blue\", True)"
   ]
  },
  {
   "cell_type": "code",
   "execution_count": null,
   "metadata": {},
   "outputs": [],
   "source": []
  }
 ],
 "metadata": {
  "kernelspec": {
   "display_name": "Python 3",
   "language": "python",
   "name": "python3"
  },
  "language_info": {
   "codemirror_mode": {
    "name": "ipython",
    "version": 3
   },
   "file_extension": ".py",
   "mimetype": "text/x-python",
   "name": "python",
   "nbconvert_exporter": "python",
   "pygments_lexer": "ipython3",
   "version": "3.8.6"
  }
 },
 "nbformat": 4,
 "nbformat_minor": 4
}
